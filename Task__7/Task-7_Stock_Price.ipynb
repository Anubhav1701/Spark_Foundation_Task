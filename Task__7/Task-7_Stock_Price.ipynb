{
 "cells": [
  {
   "cell_type": "markdown",
   "metadata": {},
   "source": [
    "# Author : Preetam  Patel\n",
    "\n",
    "## Task 7 : Stock Market Prediction using Numerical and Textual Analysis\n",
    "## GRIP @ The Sparks Foundation\n",
    "\n",
    "In this task I tried to create a hybrid model for stock price/performance prediction using numerical analysis of historical stock prices, and sentimental analysis of news headlines.\n",
    "&nbsp;\n",
    "\n",
    "\n",
    "## Technical Stack  : Sikit Learn, Numpy Array, Pandas, Matplotlib, Keras, NLTK, Textblob, Xgboost"
   ]
  },
  {
   "cell_type": "code",
   "execution_count": 1,
   "metadata": {},
   "outputs": [
    {
     "name": "stderr",
     "output_type": "stream",
     "text": [
      "[nltk_data] Downloading package stopwords to C:\\Users\\Preetam\n",
      "[nltk_data]     Patel\\AppData\\Roaming\\nltk_data...\n",
      "[nltk_data]   Package stopwords is already up-to-date!\n",
      "[nltk_data] Downloading package vader_lexicon to C:\\Users\\Preetam\n",
      "[nltk_data]     Patel\\AppData\\Roaming\\nltk_data...\n",
      "[nltk_data]   Package vader_lexicon is already up-to-date!\n"
     ]
    }
   ],
   "source": [
    "#importing required libraries\n",
    "from sklearn.preprocessing import MinMaxScaler\n",
    "from sklearn.metrics import mean_squared_error\n",
    "from sklearn import metrics \n",
    "from keras.models import Sequential\n",
    "from keras.layers import Dense, LSTM\n",
    "import pandas as pd\n",
    "import matplotlib.pyplot as plt\n",
    "import numpy as np\n",
    "import math\n",
    "import re\n",
    "import nltk\n",
    "import re\n",
    "from nltk.corpus import stopwords\n",
    "nltk.download('stopwords')\n",
    "nltk.download('vader_lexicon')\n",
    "from textblob import TextBlob\n",
    "from nltk.sentiment.vader import SentimentIntensityAnalyzer\n",
    "from sklearn.ensemble import RandomForestRegressor, AdaBoostRegressor\n",
    "import xgboost \n"
   ]
  },
  {
   "cell_type": "markdown",
   "metadata": {},
   "source": [
    "## Step 1 : Importing the Numerical dataset and performing Exploratory Analysis"
   ]
  },
  {
   "cell_type": "code",
   "execution_count": 2,
   "metadata": {},
   "outputs": [
    {
     "data": {
      "text/html": [
       "<div>\n",
       "<style scoped>\n",
       "    .dataframe tbody tr th:only-of-type {\n",
       "        vertical-align: middle;\n",
       "    }\n",
       "\n",
       "    .dataframe tbody tr th {\n",
       "        vertical-align: top;\n",
       "    }\n",
       "\n",
       "    .dataframe thead th {\n",
       "        text-align: right;\n",
       "    }\n",
       "</style>\n",
       "<table border=\"1\" class=\"dataframe\">\n",
       "  <thead>\n",
       "    <tr style=\"text-align: right;\">\n",
       "      <th></th>\n",
       "      <th>Date</th>\n",
       "      <th>Symbol</th>\n",
       "      <th>Series</th>\n",
       "      <th>Prev Close</th>\n",
       "      <th>Open</th>\n",
       "      <th>High</th>\n",
       "      <th>Low</th>\n",
       "      <th>Last</th>\n",
       "      <th>Close</th>\n",
       "      <th>VWAP</th>\n",
       "      <th>Volume</th>\n",
       "      <th>Turnover</th>\n",
       "      <th>Trades</th>\n",
       "      <th>Deliverable Volume</th>\n",
       "      <th>%Deliverble</th>\n",
       "    </tr>\n",
       "  </thead>\n",
       "  <tbody>\n",
       "    <tr>\n",
       "      <th>0</th>\n",
       "      <td>2000-01-03</td>\n",
       "      <td>WIPRO</td>\n",
       "      <td>EQ</td>\n",
       "      <td>2522.40</td>\n",
       "      <td>2724.00</td>\n",
       "      <td>2724.20</td>\n",
       "      <td>2724.00</td>\n",
       "      <td>2724.20</td>\n",
       "      <td>2724.20</td>\n",
       "      <td>2724.17</td>\n",
       "      <td>1599</td>\n",
       "      <td>4.355942e+11</td>\n",
       "      <td>NaN</td>\n",
       "      <td>NaN</td>\n",
       "      <td>NaN</td>\n",
       "    </tr>\n",
       "    <tr>\n",
       "      <th>1</th>\n",
       "      <td>2000-01-04</td>\n",
       "      <td>WIPRO</td>\n",
       "      <td>EQ</td>\n",
       "      <td>2724.20</td>\n",
       "      <td>2942.15</td>\n",
       "      <td>2942.15</td>\n",
       "      <td>2942.15</td>\n",
       "      <td>2942.15</td>\n",
       "      <td>2942.15</td>\n",
       "      <td>2942.15</td>\n",
       "      <td>4392</td>\n",
       "      <td>1.292192e+12</td>\n",
       "      <td>NaN</td>\n",
       "      <td>NaN</td>\n",
       "      <td>NaN</td>\n",
       "    </tr>\n",
       "    <tr>\n",
       "      <th>2</th>\n",
       "      <td>2000-01-05</td>\n",
       "      <td>WIPRO</td>\n",
       "      <td>EQ</td>\n",
       "      <td>2942.15</td>\n",
       "      <td>2942.15</td>\n",
       "      <td>3177.55</td>\n",
       "      <td>2715.00</td>\n",
       "      <td>3000.00</td>\n",
       "      <td>2990.10</td>\n",
       "      <td>3063.86</td>\n",
       "      <td>132297</td>\n",
       "      <td>4.053390e+13</td>\n",
       "      <td>NaN</td>\n",
       "      <td>NaN</td>\n",
       "      <td>NaN</td>\n",
       "    </tr>\n",
       "    <tr>\n",
       "      <th>3</th>\n",
       "      <td>2000-01-06</td>\n",
       "      <td>WIPRO</td>\n",
       "      <td>EQ</td>\n",
       "      <td>2990.10</td>\n",
       "      <td>3144.70</td>\n",
       "      <td>3183.00</td>\n",
       "      <td>2790.00</td>\n",
       "      <td>2915.00</td>\n",
       "      <td>2932.25</td>\n",
       "      <td>2962.41</td>\n",
       "      <td>72840</td>\n",
       "      <td>2.157822e+13</td>\n",
       "      <td>NaN</td>\n",
       "      <td>NaN</td>\n",
       "      <td>NaN</td>\n",
       "    </tr>\n",
       "    <tr>\n",
       "      <th>4</th>\n",
       "      <td>2000-01-07</td>\n",
       "      <td>WIPRO</td>\n",
       "      <td>EQ</td>\n",
       "      <td>2932.25</td>\n",
       "      <td>2751.00</td>\n",
       "      <td>2751.00</td>\n",
       "      <td>2697.70</td>\n",
       "      <td>2697.70</td>\n",
       "      <td>2697.70</td>\n",
       "      <td>2697.95</td>\n",
       "      <td>10110</td>\n",
       "      <td>2.727630e+12</td>\n",
       "      <td>NaN</td>\n",
       "      <td>NaN</td>\n",
       "      <td>NaN</td>\n",
       "    </tr>\n",
       "  </tbody>\n",
       "</table>\n",
       "</div>"
      ],
      "text/plain": [
       "         Date Symbol Series  Prev Close     Open     High      Low     Last  \\\n",
       "0  2000-01-03  WIPRO     EQ     2522.40  2724.00  2724.20  2724.00  2724.20   \n",
       "1  2000-01-04  WIPRO     EQ     2724.20  2942.15  2942.15  2942.15  2942.15   \n",
       "2  2000-01-05  WIPRO     EQ     2942.15  2942.15  3177.55  2715.00  3000.00   \n",
       "3  2000-01-06  WIPRO     EQ     2990.10  3144.70  3183.00  2790.00  2915.00   \n",
       "4  2000-01-07  WIPRO     EQ     2932.25  2751.00  2751.00  2697.70  2697.70   \n",
       "\n",
       "     Close     VWAP  Volume      Turnover  Trades  Deliverable Volume  \\\n",
       "0  2724.20  2724.17    1599  4.355942e+11     NaN                 NaN   \n",
       "1  2942.15  2942.15    4392  1.292192e+12     NaN                 NaN   \n",
       "2  2990.10  3063.86  132297  4.053390e+13     NaN                 NaN   \n",
       "3  2932.25  2962.41   72840  2.157822e+13     NaN                 NaN   \n",
       "4  2697.70  2697.95   10110  2.727630e+12     NaN                 NaN   \n",
       "\n",
       "   %Deliverble  \n",
       "0          NaN  \n",
       "1          NaN  \n",
       "2          NaN  \n",
       "3          NaN  \n",
       "4          NaN  "
      ]
     },
     "execution_count": 2,
     "metadata": {},
     "output_type": "execute_result"
    }
   ],
   "source": [
    "# Dataframe for exploratory analysis\n",
    "df=pd.read_csv('csv\\WIPRO.csv')\n",
    "df.head()"
   ]
  },
  {
   "cell_type": "code",
   "execution_count": 3,
   "metadata": {},
   "outputs": [
    {
     "data": {
      "text/plain": [
       "[<matplotlib.lines.Line2D at 0x1d266eba460>]"
      ]
     },
     "execution_count": 3,
     "metadata": {},
     "output_type": "execute_result"
    },
    {
     "data": {
      "image/png": "[encoded data removed]",
      "text/plain": [
       "<Figure size 1152x576 with 1 Axes>"
      ]
     },
     "metadata": {
      "needs_background": "light"
     },
     "output_type": "display_data"
    }
   ],
   "source": [
    "# Extract date frame and plot closing stock price w.r.t time\n",
    "df['Date'] = pd.to_datetime(df.Date,format='%Y-%m-%d')\n",
    "df.index = df['Date']\n",
    "df.dropna(inplace=True)\n",
    "#plot\n",
    "plt.figure(figsize=(16,8))\n",
    "plt.plot(df['Close'], label='Close Price history')"
   ]
  },
  {
   "cell_type": "code",
   "execution_count": 4,
   "metadata": {},
   "outputs": [],
   "source": [
    "# fix random seed for reproducibility\n",
    "np.random.seed(7)"
   ]
  },
  {
   "cell_type": "markdown",
   "metadata": {},
   "source": [
    "## Step 2 : Creating a dataframe for storing the Closing stock data per day"
   ]
  },
  {
   "cell_type": "code",
   "execution_count": 5,
   "metadata": {},
   "outputs": [],
   "source": [
    "# convert an array of values into a dataset matrix\n",
    "def create_dataset(df2, look_back=1):\n",
    "\tdataX, dataY = [], []\n",
    "\tfor i in range(len(df2)-look_back-1):\n",
    "\t\ta = df2[i:(i+look_back), 0]\n",
    "\t\tdataX.append(a)\n",
    "\t\tdataY.append(df2[i + look_back, 0])\n",
    "\treturn np.array(dataX), np.array(dataY)\n"
   ]
  },
  {
   "cell_type": "code",
   "execution_count": 6,
   "metadata": {},
   "outputs": [],
   "source": [
    "df2 = pd.read_csv('csv\\WIPRO.csv', usecols=[5], engine='python')\n",
    "df2.dropna(inplace=True)\n",
    "df2 = df2.values\n",
    "df2 = df2.astype('float32')"
   ]
  },
  {
   "cell_type": "markdown",
   "metadata": {},
   "source": [
    "## Step 3 : Data Normalization and Division into Training and Test sets"
   ]
  },
  {
   "cell_type": "code",
   "execution_count": 7,
   "metadata": {},
   "outputs": [],
   "source": [
    "# normalize the dataset\n",
    "scaler = MinMaxScaler(feature_range=(0, 1))\n",
    "df2 = scaler.fit_transform(df2)\n",
    "\n",
    "# split into train and test sets\n",
    "train_size = int(len(df2) * 0.67)\n",
    "test_size = len(df2) - train_size\n",
    "train, test = df2[0:train_size,:], df2[train_size:len(df2),:]"
   ]
  },
  {
   "cell_type": "code",
   "execution_count": 8,
   "metadata": {},
   "outputs": [],
   "source": [
    "# reshape into X=t and Y=t+1\n",
    "look_back = 3\n",
    "trainX, trainY = create_dataset(train, look_back)\n",
    "testX, testY = create_dataset(test, look_back)\n",
    "# reshape input to be [samples, time steps, features]\n",
    "trainX = np.reshape(trainX, (trainX.shape[0], trainX.shape[1], 1))\n",
    "testX = np.reshape(testX, (testX.shape[0], testX.shape[1], 1))"
   ]
  },
  {
   "cell_type": "markdown",
   "metadata": {},
   "source": [
    "## Step 4 : Creating a LSTM for Numerical Analysis"
   ]
  },
  {
   "cell_type": "code",
   "execution_count": 9,
   "metadata": {},
   "outputs": [
    {
     "name": "stdout",
     "output_type": "stream",
     "text": [
      "Epoch 1/100\n",
      "3538/3538 - 5s - loss: 4.2873e-04\n",
      "Epoch 2/100\n",
      "3538/3538 - 4s - loss: 1.5420e-04\n",
      "Epoch 3/100\n",
      "3538/3538 - 4s - loss: 1.4960e-04\n",
      "Epoch 4/100\n",
      "3538/3538 - 3s - loss: 1.4914e-04\n",
      "Epoch 5/100\n",
      "3538/3538 - 5s - loss: 1.3703e-04\n",
      "Epoch 6/100\n",
      "3538/3538 - 5s - loss: 1.2956e-04\n",
      "Epoch 7/100\n",
      "3538/3538 - 5s - loss: 1.2328e-04\n",
      "Epoch 8/100\n",
      "3538/3538 - 4s - loss: 1.2269e-04\n",
      "Epoch 9/100\n",
      "3538/3538 - 5s - loss: 1.1565e-04\n",
      "Epoch 10/100\n",
      "3538/3538 - 5s - loss: 1.1258e-04\n",
      "Epoch 11/100\n",
      "3538/3538 - 6s - loss: 1.0451e-04\n",
      "Epoch 12/100\n",
      "3538/3538 - 4s - loss: 9.9245e-05\n",
      "Epoch 13/100\n",
      "3538/3538 - 5s - loss: 9.1125e-05\n",
      "Epoch 14/100\n",
      "3538/3538 - 5s - loss: 8.5234e-05\n",
      "Epoch 15/100\n",
      "3538/3538 - 5s - loss: 8.2705e-05\n",
      "Epoch 16/100\n",
      "3538/3538 - 5s - loss: 8.3024e-05\n",
      "Epoch 17/100\n",
      "3538/3538 - 4s - loss: 7.9371e-05\n",
      "Epoch 18/100\n",
      "3538/3538 - 4s - loss: 7.1421e-05\n",
      "Epoch 19/100\n",
      "3538/3538 - 5s - loss: 7.6089e-05\n",
      "Epoch 20/100\n",
      "3538/3538 - 5s - loss: 7.8641e-05\n",
      "Epoch 21/100\n",
      "3538/3538 - 5s - loss: 7.4779e-05\n",
      "Epoch 22/100\n",
      "3538/3538 - 4s - loss: 7.8324e-05\n",
      "Epoch 23/100\n",
      "3538/3538 - 4s - loss: 8.1100e-05\n",
      "Epoch 24/100\n",
      "3538/3538 - 5s - loss: 6.9502e-05\n",
      "Epoch 25/100\n",
      "3538/3538 - 5s - loss: 7.2070e-05\n",
      "Epoch 26/100\n",
      "3538/3538 - 6s - loss: 7.4541e-05\n",
      "Epoch 27/100\n",
      "3538/3538 - 5s - loss: 7.8707e-05\n",
      "Epoch 28/100\n",
      "3538/3538 - 4s - loss: 8.0617e-05\n",
      "Epoch 29/100\n",
      "3538/3538 - 5s - loss: 7.8338e-05\n",
      "Epoch 30/100\n",
      "3538/3538 - 5s - loss: 7.3016e-05\n",
      "Epoch 31/100\n",
      "3538/3538 - 5s - loss: 7.4494e-05\n",
      "Epoch 32/100\n",
      "3538/3538 - 5s - loss: 7.2000e-05\n",
      "Epoch 33/100\n",
      "3538/3538 - 4s - loss: 7.7976e-05\n",
      "Epoch 34/100\n",
      "3538/3538 - 4s - loss: 6.9486e-05\n",
      "Epoch 35/100\n",
      "3538/3538 - 5s - loss: 6.8070e-05\n",
      "Epoch 36/100\n",
      "3538/3538 - 5s - loss: 6.9572e-05\n",
      "Epoch 37/100\n",
      "3538/3538 - 5s - loss: 7.3775e-05\n",
      "Epoch 38/100\n",
      "3538/3538 - 4s - loss: 7.4287e-05\n",
      "Epoch 39/100\n",
      "3538/3538 - 4s - loss: 7.5386e-05\n",
      "Epoch 40/100\n",
      "3538/3538 - 5s - loss: 7.5701e-05\n",
      "Epoch 41/100\n",
      "3538/3538 - 5s - loss: 7.5355e-05\n",
      "Epoch 42/100\n",
      "3538/3538 - 5s - loss: 6.9870e-05\n",
      "Epoch 43/100\n",
      "3538/3538 - 4s - loss: 7.2173e-05\n",
      "Epoch 44/100\n",
      "3538/3538 - 4s - loss: 7.0988e-05\n",
      "Epoch 45/100\n",
      "3538/3538 - 5s - loss: 6.8502e-05\n",
      "Epoch 46/100\n",
      "3538/3538 - 5s - loss: 7.2560e-05\n",
      "Epoch 47/100\n",
      "3538/3538 - 5s - loss: 7.4718e-05\n",
      "Epoch 48/100\n",
      "3538/3538 - 4s - loss: 7.7346e-05\n",
      "Epoch 49/100\n",
      "3538/3538 - 4s - loss: 7.6174e-05\n",
      "Epoch 50/100\n",
      "3538/3538 - 6s - loss: 7.0666e-05\n",
      "Epoch 51/100\n",
      "3538/3538 - 5s - loss: 6.9276e-05\n",
      "Epoch 52/100\n",
      "3538/3538 - 4s - loss: 7.0002e-05\n",
      "Epoch 53/100\n",
      "3538/3538 - 4s - loss: 7.1086e-05\n",
      "Epoch 54/100\n",
      "3538/3538 - 5s - loss: 7.0487e-05\n",
      "Epoch 55/100\n",
      "3538/3538 - 5s - loss: 7.4293e-05\n",
      "Epoch 56/100\n",
      "3538/3538 - 5s - loss: 6.8582e-05\n",
      "Epoch 57/100\n",
      "3538/3538 - 4s - loss: 7.0458e-05\n",
      "Epoch 58/100\n",
      "3538/3538 - 5s - loss: 7.3875e-05\n",
      "Epoch 59/100\n",
      "3538/3538 - 5s - loss: 7.0258e-05\n",
      "Epoch 60/100\n",
      "3538/3538 - 5s - loss: 7.2878e-05\n",
      "Epoch 61/100\n",
      "3538/3538 - 4s - loss: 6.8158e-05\n",
      "Epoch 62/100\n",
      "3538/3538 - 4s - loss: 7.1026e-05\n",
      "Epoch 63/100\n",
      "3538/3538 - 5s - loss: 7.2549e-05\n",
      "Epoch 64/100\n",
      "3538/3538 - 5s - loss: 7.1096e-05\n",
      "Epoch 65/100\n",
      "3538/3538 - 5s - loss: 7.5502e-05\n",
      "Epoch 66/100\n",
      "3538/3538 - 5s - loss: 6.8311e-05\n",
      "Epoch 67/100\n",
      "3538/3538 - 5s - loss: 6.9636e-05\n",
      "Epoch 68/100\n",
      "3538/3538 - 4s - loss: 7.6588e-05\n",
      "Epoch 69/100\n",
      "3538/3538 - 4s - loss: 7.0982e-05\n",
      "Epoch 70/100\n",
      "3538/3538 - 5s - loss: 6.8061e-05\n",
      "Epoch 71/100\n",
      "3538/3538 - 5s - loss: 6.8024e-05\n",
      "Epoch 72/100\n",
      "3538/3538 - 5s - loss: 7.1283e-05\n",
      "Epoch 73/100\n",
      "3538/3538 - 5s - loss: 7.0835e-05\n",
      "Epoch 74/100\n",
      "3538/3538 - 4s - loss: 6.8648e-05\n",
      "Epoch 75/100\n",
      "3538/3538 - 4s - loss: 6.8685e-05\n",
      "Epoch 76/100\n",
      "3538/3538 - 5s - loss: 6.9859e-05\n",
      "Epoch 77/100\n",
      "3538/3538 - 5s - loss: 6.5327e-05\n",
      "Epoch 78/100\n",
      "3538/3538 - 5s - loss: 7.4249e-05\n",
      "Epoch 79/100\n",
      "3538/3538 - 4s - loss: 7.1747e-05\n",
      "Epoch 80/100\n",
      "3538/3538 - 4s - loss: 7.4232e-05\n",
      "Epoch 81/100\n",
      "3538/3538 - 5s - loss: 6.7339e-05\n",
      "Epoch 82/100\n",
      "3538/3538 - 5s - loss: 6.6460e-05\n",
      "Epoch 83/100\n",
      "3538/3538 - 4s - loss: 7.1981e-05\n",
      "Epoch 84/100\n",
      "3538/3538 - 4s - loss: 6.7842e-05\n",
      "Epoch 85/100\n",
      "3538/3538 - 5s - loss: 6.4148e-05\n",
      "Epoch 86/100\n",
      "3538/3538 - 5s - loss: 7.2520e-05\n",
      "Epoch 87/100\n",
      "3538/3538 - 5s - loss: 6.7471e-05\n",
      "Epoch 88/100\n",
      "3538/3538 - 4s - loss: 7.0747e-05\n",
      "Epoch 89/100\n",
      "3538/3538 - 5s - loss: 7.1200e-05\n",
      "Epoch 90/100\n",
      "3538/3538 - 5s - loss: 7.2481e-05\n",
      "Epoch 91/100\n",
      "3538/3538 - 5s - loss: 6.7117e-05\n",
      "Epoch 92/100\n",
      "3538/3538 - 4s - loss: 7.3349e-05\n",
      "Epoch 93/100\n",
      "3538/3538 - 5s - loss: 6.9938e-05\n",
      "Epoch 94/100\n",
      "3538/3538 - 5s - loss: 6.7933e-05\n",
      "Epoch 95/100\n",
      "3538/3538 - 5s - loss: 6.7283e-05\n",
      "Epoch 96/100\n",
      "3538/3538 - 5s - loss: 6.6816e-05\n",
      "Epoch 97/100\n",
      "3538/3538 - 4s - loss: 6.8733e-05\n",
      "Epoch 98/100\n",
      "3538/3538 - 4s - loss: 7.2841e-05\n",
      "Epoch 99/100\n",
      "3538/3538 - 5s - loss: 6.9736e-05\n",
      "Epoch 100/100\n",
      "3538/3538 - 5s - loss: 7.0307e-05\n"
     ]
    },
    {
     "data": {
      "text/plain": [
       "<tensorflow.python.keras.callbacks.History at 0x1d26ea6d250>"
      ]
     },
     "execution_count": 9,
     "metadata": {},
     "output_type": "execute_result"
    }
   ],
   "source": [
    "# create and fit the LSTM network\n",
    "model = Sequential()\n",
    "model.add(LSTM(7, input_shape=(look_back, 1)))\n",
    "model.add(Dense(1))\n",
    "model.compile(loss='mean_squared_error', optimizer='adam')\n",
    "model.fit(trainX, trainY, epochs=100, batch_size=1, verbose=2)"
   ]
  },
  {
   "cell_type": "code",
   "execution_count": null,
   "metadata": {},
   "outputs": [],
   "source": [
    "# make predictions\n",
    "trainPredict = model.predict(trainX)\n",
    "testPredict = model.predict(testX)\n",
    "# invert predictions\n",
    "trainPredict = scaler.inverse_transform(trainPredict)\n",
    "trainY = scaler.inverse_transform([trainY])\n",
    "testPredict = scaler.inverse_transform(testPredict)\n",
    "testY = scaler.inverse_transform([testY])"
   ]
  },
  {
   "cell_type": "markdown",
   "metadata": {},
   "source": [
    "## Step 5 : Making Predictions"
   ]
  },
  {
   "cell_type": "code",
   "execution_count": null,
   "metadata": {},
   "outputs": [],
   "source": [
    "# shift train predictions for plotting\n",
    "trainPredictPlot = np.empty_like(df2)\n",
    "trainPredictPlot[:, :] = np.nan\n",
    "trainPredictPlot[look_back:len(trainPredict)+look_back, :] = trainPredict\n",
    "# shift test predictions for plotting\n",
    "testPredictPlot = np.empty_like(df2)\n",
    "testPredictPlot[:, :] = np.nan\n",
    "testPredictPlot[len(trainPredict)+(look_back*2)+1:len(df2)-1, :] = testPredict\n",
    "# plot baseline and predictions\n",
    "plt.plot(scaler.inverse_transform(df2))\n",
    "plt.plot(trainPredictPlot,color='red')\n",
    "plt.plot(testPredictPlot,color='green')\n",
    "plt.show()"
   ]
  },
  {
   "cell_type": "code",
   "execution_count": null,
   "metadata": {},
   "outputs": [],
   "source": [
    "# calculate root mean squared error\n",
    "trainScore = math.sqrt(mean_squared_error(trainY[0], trainPredict[:,0]))\n",
    "print(\"Root mean square error = \",trainScore,\" RMSE\")\n",
    "testScore = math.sqrt(mean_squared_error(testY[0], testPredict[:,0]))\n",
    "print(\"Root mean square error = \",testScore,\" RMSE\")\n",
    "\n"
   ]
  },
  {
   "cell_type": "markdown",
   "metadata": {},
   "source": [
    "# Step 6 : Creating a Hybrid model for Numerical and textual Analysis"
   ]
  },
  {
   "cell_type": "code",
   "execution_count": null,
   "metadata": {},
   "outputs": [],
   "source": [
    "#Text Analysis\n",
    "\n",
    "columns = ['Date','Category','News']\n",
    "news = pd.read_csv('csv\\india-news-headlines.csv', names = columns)\n",
    "news"
   ]
  },
  {
   "cell_type": "markdown",
   "metadata": {},
   "source": [
    "## Step 7 : Text preprocessing"
   ]
  },
  {
   "cell_type": "code",
   "execution_count": null,
   "metadata": {},
   "outputs": [],
   "source": [
    "news.drop(0, inplace=True)\n",
    "news.drop('Category', axis = 1, inplace=True)\n",
    "news.info()"
   ]
  },
  {
   "cell_type": "code",
   "execution_count": null,
   "metadata": {},
   "outputs": [],
   "source": [
    "# Restructuring the date format\n",
    "news['Date'] = pd.to_datetime(news['Date'],format= '%Y %m %d')\n",
    "news"
   ]
  },
  {
   "cell_type": "code",
   "execution_count": null,
   "metadata": {},
   "outputs": [],
   "source": [
    "#Grouping the headlines for each day\n",
    "news['News'] = news.groupby(['Date']).transform(lambda x : ' '.join(x)) \n",
    "news = news.drop_duplicates() \n",
    "news.reset_index(inplace = True, drop = True)\n",
    "news"
   ]
  },
  {
   "cell_type": "code",
   "execution_count": null,
   "metadata": {},
   "outputs": [],
   "source": [
    "news['News']"
   ]
  },
  {
   "cell_type": "markdown",
   "metadata": {},
   "source": [
    "## Step 8 : Adding subjectivity and polarity Scores"
   ]
  },
  {
   "cell_type": "code",
   "execution_count": null,
   "metadata": {},
   "outputs": [],
   "source": [
    "#Functions to get the subjectivity and polarity\n",
    "def getSubjectivity(text):\n",
    "  return TextBlob(text).sentiment.subjectivity\n",
    "\n",
    "def getPolarity(text):\n",
    "  return  TextBlob(text).sentiment.polarity"
   ]
  },
  {
   "cell_type": "code",
   "execution_count": null,
   "metadata": {},
   "outputs": [],
   "source": [
    "#Adding subjectivity and polarity columns\n",
    "news['Subjectivity'] = news['News'].apply(getSubjectivity)\n",
    "news['Polarity'] = news['News'].apply(getPolarity)\n",
    "news"
   ]
  },
  {
   "cell_type": "markdown",
   "metadata": {},
   "source": [
    "## Step 9 : Visualizing the polarity and Subjectivity scores"
   ]
  },
  {
   "cell_type": "code",
   "execution_count": null,
   "metadata": {},
   "outputs": [],
   "source": [
    "plt.figure(figsize = (10,6))\n",
    "news['Polarity'].hist(color = 'red')"
   ]
  },
  {
   "cell_type": "code",
   "execution_count": null,
   "metadata": {},
   "outputs": [],
   "source": [
    "plt.figure(figsize = (10,6))\n",
    "news['Subjectivity'].hist(color = 'green')"
   ]
  },
  {
   "cell_type": "markdown",
   "metadata": {},
   "source": [
    "## Step 10 : Performing Sentiment Analysis over the news Headlines"
   ]
  },
  {
   "cell_type": "code",
   "execution_count": null,
   "metadata": {},
   "outputs": [],
   "source": [
    "#Adding sentiment score to news\n",
    "sia = SentimentIntensityAnalyzer()\n",
    "\n",
    "news['Compound'] = [sia.polarity_scores(v)['compound'] for v in news['News']]\n",
    "news['Negative'] = [sia.polarity_scores(v)['neg'] for v in news['News']]\n",
    "news['Neutral'] = [sia.polarity_scores(v)['neu'] for v in news['News']]\n",
    "news['Positive'] = [sia.polarity_scores(v)['pos'] for v in news['News']]\n",
    "news"
   ]
  },
  {
   "cell_type": "markdown",
   "metadata": {},
   "source": [
    "## Step 11 : Merging the numerical and textual data"
   ]
  },
  {
   "cell_type": "code",
   "execution_count": null,
   "metadata": {},
   "outputs": [],
   "source": [
    "merge = news\n",
    "merge"
   ]
  },
  {
   "cell_type": "code",
   "execution_count": null,
   "metadata": {},
   "outputs": [],
   "source": [
    "dff = merge[['Subjectivity', 'Polarity', 'Compound', 'Negative', 'Neutral' ,'Positive']]\n",
    "dff"
   ]
  },
  {
   "cell_type": "code",
   "execution_count": null,
   "metadata": {},
   "outputs": [],
   "source": [
    "from sklearn.preprocessing import MinMaxScaler\n",
    "sc = MinMaxScaler()\n",
    "new_df = pd.DataFrame(sc.fit_transform(dff))\n",
    "new_df.columns = dff.columns\n",
    "new_df.index = dff.index\n",
    "new_df.head()"
   ]
  },
  {
   "cell_type": "code",
   "execution_count": null,
   "metadata": {},
   "outputs": [],
   "source": [
    "X = new_df[0:249]\n",
    "y =df['Close']"
   ]
  },
  {
   "cell_type": "code",
   "execution_count": null,
   "metadata": {},
   "outputs": [],
   "source": [
    "from sklearn.model_selection import train_test_split\n",
    "\n",
    "x_train, x_test, y_train, y_test = train_test_split(X, y, test_size=0.2, random_state = 0)\n",
    "x_train.shape"
   ]
  },
  {
   "cell_type": "code",
   "execution_count": null,
   "metadata": {},
   "outputs": [],
   "source": [
    "x_train[:10]"
   ]
  },
  {
   "cell_type": "markdown",
   "metadata": {},
   "source": [
    "## Step 12 : Training a Random Forest Regressor and Adaboost Regressor for hybrid analysis"
   ]
  },
  {
   "cell_type": "code",
   "execution_count": null,
   "metadata": {},
   "outputs": [],
   "source": [
    "rf = RandomForestRegressor()\n",
    "rf.fit(x_train, y_train)\n",
    "prediction=rf.predict(x_test)"
   ]
  },
  {
   "cell_type": "markdown",
   "metadata": {},
   "source": [
    "## Step 13 : Determining the accuracy scores for both the  Models"
   ]
  },
  {
   "cell_type": "code",
   "execution_count": null,
   "metadata": {},
   "outputs": [],
   "source": [
    "print(prediction[:10])\n",
    "print(y_test[:10])\n",
    "print(\"Root mean square error = \",math.sqrt(mean_squared_error(prediction,y_test)),\" RMSE\")"
   ]
  },
  {
   "cell_type": "code",
   "execution_count": null,
   "metadata": {},
   "outputs": [],
   "source": [
    "adb = AdaBoostRegressor()\n",
    "adb.fit(x_train, y_train)\n",
    "predictions = adb.predict(x_test)"
   ]
  },
  {
   "cell_type": "code",
   "execution_count": null,
   "metadata": {},
   "outputs": [],
   "source": [
    "print(\"Root mean square error = \",math.sqrt(mean_squared_error(predictions, y_test)),\" RMSE\")"
   ]
  },
  {
   "cell_type": "markdown",
   "metadata": {},
   "source": [
    "I have used two models, i.e., Random Forest Regressor and Adaboost Regressor to carry out hybrid analysis. From the RMSE values we see that Random Forest Regressor gives a mode accurate output (3960 RMSE). However, both the models have very high RMSE values. The reason for high values is the unpredictible nature of the stock prices.\n",
    "\n",
    "## Conclusion\n",
    "### I was  able to create a hybrid model for stock price/performance prediction using numerical analysis of historical stock prices, and sentimental analysis of news headlines. \n",
    "# Thank You"
   ]
  },
  {
   "cell_type": "code",
   "execution_count": null,
   "metadata": {},
   "outputs": [],
   "source": []
  }
 ],
 "metadata": {
  "kernelspec": {
   "display_name": "Python 3",
   "language": "python",
   "name": "python3"
  },
  "language_info": {
   "codemirror_mode": {
    "name": "ipython",
    "version": 3
   },
   "file_extension": ".py",
   "mimetype": "text/x-python",
   "name": "python",
   "nbconvert_exporter": "python",
   "pygments_lexer": "ipython3",
   "version": "3.8.5"
  }
 },
 "nbformat": 4,
 "nbformat_minor": 2
}
